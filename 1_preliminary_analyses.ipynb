{
 "cells": [
  {
   "cell_type": "markdown",
   "source": [
    "# CAS AML project - Module 1 & 2\r\n",
    "\r\n",
    "## Data preparation"
   ],
   "metadata": {}
  },
  {
   "cell_type": "markdown",
   "source": [
    "### Target variable: precipitation time series\r\n",
    "\r\n",
    "**Dataset**: RhiresD, which is a gridded daily precipitation dataset over Switzerland provided by MeteoSwiss. It is based on a spatial interpolation of rain-gauge data. The grid resolution is 1 km, but the effective resolution is in the order of 15-20 km.\r\n",
    "\r\n",
    "\r\n",
    "**Aggregations levels**: The gridded dataset has been averaged over different regions:\r\n",
    "* 12 climatic regions\r\n",
    "* 5 aggregated regions\r\n",
    "* the whole country"
   ],
   "metadata": {}
  },
  {
   "cell_type": "code",
   "execution_count": 22,
   "source": [
    "# Import modules\r\n",
    "import pandas as pd\r\n",
    "\r\n",
    "# Read precipitation file and get events over threshold\r\n",
    "precip = pd.read_csv('data/MeteoSwiss/precip_regions.csv')\r\n",
    "precip_xtreme = precip.copy()\r\n",
    "\r\n",
    "for key, ts in precip_xtreme.iteritems():\r\n",
    "    if key in ['year', 'month', 'day']: continue\r\n",
    "    precip_xtreme[key] = ts > ts.quantile(0.95)"
   ],
   "outputs": [],
   "metadata": {}
  },
  {
   "cell_type": "markdown",
   "source": [
    "### Predictors: meteorological fields\r\n",
    "\r\n",
    "**Dataset**: ERA5"
   ],
   "metadata": {}
  },
  {
   "cell_type": "markdown",
   "source": [
    "## Unsupervised learning approaches"
   ],
   "metadata": {}
  },
  {
   "cell_type": "code",
   "execution_count": null,
   "source": [],
   "outputs": [],
   "metadata": {}
  },
  {
   "cell_type": "markdown",
   "source": [
    "## Supervised learning approaches"
   ],
   "metadata": {}
  },
  {
   "cell_type": "code",
   "execution_count": null,
   "source": [],
   "outputs": [],
   "metadata": {}
  },
  {
   "cell_type": "markdown",
   "source": [
    "## Deep learning approaches"
   ],
   "metadata": {}
  },
  {
   "cell_type": "code",
   "execution_count": null,
   "source": [],
   "outputs": [],
   "metadata": {}
  }
 ],
 "metadata": {
  "kernelspec": {
   "name": "python3",
   "display_name": "Python 3.8.8 64-bit ('base': conda)"
  },
  "language_info": {
   "codemirror_mode": {
    "name": "ipython",
    "version": 3
   },
   "file_extension": ".py",
   "mimetype": "text/x-python",
   "name": "python",
   "nbconvert_exporter": "python",
   "pygments_lexer": "ipython3",
   "version": "3.8.8"
  },
  "interpreter": {
   "hash": "b3ba2566441a7c06988d0923437866b63cedc61552a5af99d1f4fb67d367b25f"
  }
 },
 "nbformat": 4,
 "nbformat_minor": 5
}