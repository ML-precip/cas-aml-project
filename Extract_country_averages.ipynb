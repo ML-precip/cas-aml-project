{
 "cells": [
  {
   "cell_type": "code",
   "execution_count": null,
   "metadata": {},
   "outputs": [],
   "source": [
    "# Script to extract the data over country-shapes"
   ]
  },
  {
   "cell_type": "code",
   "execution_count": null,
   "metadata": {},
   "outputs": [],
   "source": [
    "import pandas as pd\n",
    "import geopandas as gpd\n",
    "# Operations on geometries\n",
    "import shapely\n",
    "import numpy as np\n",
    "import math\n",
    "import xarray as xr\n",
    "import regionmask\n",
    "import dask.array as da\n",
    "# plotting\n",
    "import matplotlib.pyplot as plt\n",
    "import matplotlib\n",
    "\n",
    "%matplotlib inline"
   ]
  },
  {
   "cell_type": "code",
   "execution_count": null,
   "metadata": {},
   "outputs": [],
   "source": [
    "# Path files (change the paths accordingly)\n",
    "mypath = '/storage/workspaces/giub_hydro/hydro/data'\n",
    "era_dir = mypath + '/ERA5/'\n",
    "sh_file = '/ref-nuts-2016-10m.shp/NUTS_RG_10M_2016_4326_LEVL_0.shp'\n",
    "t2m = 'Daymean_era5_T2M_EU_19790101-20210905.nc'"
   ]
  },
  {
   "cell_type": "code",
   "execution_count": null,
   "metadata": {},
   "outputs": [],
   "source": [
    "nuts = gpd.read_file(mypath+sh_file)"
   ]
  },
  {
   "cell_type": "code",
   "execution_count": null,
   "metadata": {},
   "outputs": [],
   "source": [
    "nuts.head()"
   ]
  },
  {
   "cell_type": "code",
   "execution_count": null,
   "metadata": {
    "tags": []
   },
   "outputs": [],
   "source": [
    "t2m_dat = xr.open_mfdataset(era_dir + t2m, chunks = {'time': 10})\n",
    "lons = t2m_dat.lon\n",
    "lats = t2m_dat.lat"
   ]
  },
  {
   "cell_type": "code",
   "execution_count": null,
   "metadata": {},
   "outputs": [],
   "source": [
    "mslp_dat = xr.open_mfdataset(f'{era_dir}mslp/*.nc', combine='by_coords', parallel = True)"
   ]
  },
  {
   "cell_type": "code",
   "execution_count": null,
   "metadata": {},
   "outputs": [],
   "source": [
    "gp_dat = xr.open_mfdataset(f'{era_dir}geopotential/*.nc', combine='by_coords', parallel = True)"
   ]
  },
  {
   "cell_type": "code",
   "execution_count": null,
   "metadata": {},
   "outputs": [],
   "source": [
    "nn = len(nuts.NUTS_ID)"
   ]
  },
  {
   "cell_type": "code",
   "execution_count": null,
   "metadata": {},
   "outputs": [],
   "source": [
    "# Define the mask\n",
    "nuts_mask_poly = regionmask.Regions(name = 'nuts_mask', numbers = list(range(0,nn)), names = list(nuts.NUTS_ID), abbrevs = list(nuts.NUTS_ID), outlines = list(nuts.geometry.values[i] for i in range(0,nn)))\n",
    "print(nuts_mask_poly)"
   ]
  },
  {
   "cell_type": "code",
   "execution_count": null,
   "metadata": {},
   "outputs": [],
   "source": [
    "# Extract the ID for Switzerland\n",
    "ID_CH = 11"
   ]
  },
  {
   "cell_type": "code",
   "execution_count": null,
   "metadata": {},
   "outputs": [],
   "source": [
    "# Important: pay attention to incresing (or decreasin order of latitude)\n",
    "mask = nuts_mask_poly.mask(t2m_dat.isel(time = 0).sel(lat = slice(80,30), lon  = slice(-40, 40)), lat_name='lat', lon_name='lon')"
   ]
  },
  {
   "cell_type": "code",
   "execution_count": null,
   "metadata": {},
   "outputs": [],
   "source": [
    "# Just to visualise\n",
    "plt.figure(figsize=(12,8))\n",
    "ax = plt.axes()\n",
    "mask.plot(ax = ax)\n",
    "nuts.plot(ax = ax, alpha = 0.8, facecolor = 'none', lw = 1)"
   ]
  },
  {
   "cell_type": "code",
   "execution_count": null,
   "metadata": {},
   "outputs": [],
   "source": [
    "def extract_nuts_TS(nc, nuts_mask_poly, nvar,lim_lat, lim_lon, nam_lat, nam_lon, ID_country):\n",
    "    # note: I need to change the coordinates names in geopotential as in T2m and MSL, so I could remove those if (nvar=='z') ... \n",
    "    # for now, we can use the function like this\n",
    "    # Important: pay attention to incresing (or decreasin order of latitude)\n",
    "    if ( nvar == 'z'):\n",
    "        mask = nuts_mask_poly.mask(nc.isel(time = 0).sel(latitude = slice(lim_lat[0],lim_lat[1]), longitude  = slice(lim_lon[0], lim_lon[1])), lat_name=nam_lat, lon_name=nam_lon)\n",
    "        lat = mask.latitude.values\n",
    "        lon = mask.longitude.values\n",
    "    else:\n",
    "        mask = nuts_mask_poly.mask(nc.isel(time = 0).sel(lat = slice(lim_lat[0],lim_lat[1]), lon  = slice(lim_lon[0], lim_lon[1])), lat_name=nam_lat, lon_name=nam_lon)\n",
    "        lat = mask.lat.values\n",
    "        lon = mask.lon.values\n",
    "        \n",
    "   \n",
    "    var_country = list()\n",
    "    meanvar_country = list()\n",
    "    if ( ID_country == None ):\n",
    "        for ID_REGION in range(0,37):\n",
    "            print(ID_REGION)\n",
    "            sel_mask = mask.where(mask == ID_REGION).values\n",
    "            id_lon = lon[np.where(~np.all(np.isnan(sel_mask), axis=0))]\n",
    "            id_lat = lat[np.where(~np.all(np.isnan(sel_mask), axis=1))]\n",
    "            out_sel = nc.sel(lat = slice(id_lat[0], id_lat[-1]), lon = slice(id_lon[0], id_lon[-1])).compute().where(mask == ID_REGION)\n",
    "            var_country.append(out_sel)\n",
    "            # For doing country average\n",
    "            x = out_sel.groupby('time').mean(...)\n",
    "            meanvar_country.append(x)\n",
    "    else:\n",
    "        print(ID_country)        \n",
    "        sel_mask = mask.where(mask == ID_country).values\n",
    "        id_lon = lon[np.where(~np.all(np.isnan(sel_mask), axis=0))]\n",
    "        id_lat = lat[np.where(~np.all(np.isnan(sel_mask), axis=1))]\n",
    "           \n",
    "        if ( nvar == 'z'):\n",
    "            levs = gp_dat.level\n",
    "            x = list()\n",
    "            out_sel = nc.sel(latitude = slice(id_lat[0], id_lat[-1]), longitude = slice(id_lon[0], id_lon[-1])).compute().where(mask == ID_country)\n",
    "            for il in range(0,len(levs)):\n",
    "                print(il)\n",
    "                xx = out_sel.isel(level=il).groupby('time').mean(...)\n",
    "                x.append(xx)\n",
    "        else:  \n",
    "            out_sel = nc.sel(lat = slice(id_lat[0], id_lat[-1]), lon = slice(id_lon[0], id_lon[-1])).compute().where(mask == ID_country)\n",
    "            var_country.append(out_sel)\n",
    "            # For doing country average\n",
    "            x = out_sel.groupby('time').mean(...)\n",
    "            meanvar_country.append(x)\n",
    "        \n",
    "    return(x)"
   ]
  },
  {
   "cell_type": "code",
   "execution_count": null,
   "metadata": {},
   "outputs": [],
   "source": [
    "t2m_CH = extract_nuts_TS(t2m_dat, nuts_mask_poly,nvar= 'T2MMEAN', lim_lat= [80,30],lim_lon= [-40,40], nam_lat='lat', nam_lon='lon', ID_country = ID_CH)"
   ]
  },
  {
   "cell_type": "code",
   "execution_count": null,
   "metadata": {},
   "outputs": [],
   "source": [
    "mslp_CH = extract_nuts_TS(mslp_dat, nuts_mask_poly, nvar= 'MSL', lim_lat= [30,80], lim_lon= [-40,40], nam_lat='lat', nam_lon='lon', ID_country = ID_CH)"
   ]
  },
  {
   "cell_type": "code",
   "execution_count": null,
   "metadata": {
    "tags": []
   },
   "outputs": [],
   "source": [
    "z_CH = extract_nuts_TS(gp_dat,nuts_mask_poly, nvar='z', lim_lat= [80,30], lim_lon= [-40,40], nam_lat='latitude', nam_lon='longitude', ID_country = ID_CH)"
   ]
  },
  {
   "cell_type": "code",
   "execution_count": null,
   "metadata": {},
   "outputs": [],
   "source": []
  },
  {
   "cell_type": "code",
   "execution_count": null,
   "metadata": {},
   "outputs": [],
   "source": [
    "def save_dataf(mdat, xvar, dout):\n",
    "    df_ch = pd.DataFrame({'date':mdat['time'].values, xvar:mdat[xvar].values})\n",
    "    # saving the dataframe \n",
    "    df_ch.to_csv(dout + 'df_'+ xvar + '_CH_1979-2021.csv', index = False, header=True)\n",
    "\n",
    "    \n",
    "    "
   ]
  },
  {
   "cell_type": "code",
   "execution_count": null,
   "metadata": {},
   "outputs": [],
   "source": [
    "def save_dataf_levels(mdat, xvar, nlev, dout):\n",
    "    df = pd.DataFrame({'date':mdat[0]['time'].values})\n",
    "    dfs=[]\n",
    "    for i in range(0,len(nlev)):\n",
    "        if (type(mdat[i]) != float):\n",
    "            x = pd.DataFrame({nlev[i]:mdat[i][xvar]})\n",
    "            dfs.append(x)\n",
    "            dft = pd.concat(dfs, axis=1)\n",
    "            dft['date']=df['date']\n",
    "            \n",
    "    cols = dft.columns.tolist()\n",
    "    cols = cols[-1:] + cols[:-1]\n",
    "    df_out=dft[cols]\n",
    "    # saving the dataframe \n",
    "    df_out.to_csv(dout + 'df_'+ xvar + '_CH_1979-2021.csv', index = False, header=True)\n"
   ]
  },
  {
   "cell_type": "code",
   "execution_count": null,
   "metadata": {},
   "outputs": [],
   "source": [
    "save_dataf(t2m_CH, 'T2MMEAN', mypath)"
   ]
  },
  {
   "cell_type": "code",
   "execution_count": null,
   "metadata": {
    "tags": []
   },
   "outputs": [],
   "source": [
    "# MSLP\n",
    "save_dataf(mslp_CH, 'MSL', mypath)"
   ]
  },
  {
   "cell_type": "code",
   "execution_count": null,
   "metadata": {},
   "outputs": [],
   "source": [
    "nlev=gp_dat.level.values\n",
    "# save Z\n",
    "save_dataf_levels(z_CH, 'z', nlev, mypath)"
   ]
  },
  {
   "cell_type": "code",
   "execution_count": null,
   "metadata": {},
   "outputs": [],
   "source": []
  }
 ],
 "metadata": {
  "kernelspec": {
   "display_name": "Python 3",
   "language": "python",
   "name": "python3"
  },
  "language_info": {
   "codemirror_mode": {
    "name": "ipython",
    "version": 3
   },
   "file_extension": ".py",
   "mimetype": "text/x-python",
   "name": "python",
   "nbconvert_exporter": "python",
   "pygments_lexer": "ipython3",
   "version": "3.8.8"
  }
 },
 "nbformat": 4,
 "nbformat_minor": 4
}
