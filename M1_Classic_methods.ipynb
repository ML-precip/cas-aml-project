{
 "cells": [
  {
   "cell_type": "markdown",
   "metadata": {},
   "source": [
    "# Setup\n",
    "\n",
    "Import necessary modules and do some basic setup."
   ]
  },
  {
   "cell_type": "code",
   "execution_count": null,
   "metadata": {},
   "outputs": [],
   "source": [
    "# Python ≥3.5 is required\n",
    "import sys\n",
    "assert sys.version_info >= (3, 5)\n",
    "\n",
    "# Scikit-Learn ≥0.20 is required\n",
    "import sklearn\n",
    "assert sklearn.__version__ >= \"0.20\"\n",
    "\n",
    "# Common imports\n",
    "import os\n",
    "import glob\n",
    "import numpy as np\n",
    "import pandas as pd\n",
    "import xarray as xr\n",
    "\n",
    "# To make this notebook's output stable across runs\n",
    "np.random.seed(42)\n",
    "\n",
    "# Config matplotlib\n",
    "%matplotlib inline\n",
    "import matplotlib as mpl\n",
    "import matplotlib.pyplot as plt\n",
    "\n",
    "mpl.rc('axes', labelsize=14)\n",
    "mpl.rc('xtick', labelsize=12)\n",
    "mpl.rc('ytick', labelsize=12)\n",
    "\n",
    "# Custom utils\n",
    "from utils_data import *"
   ]
  },
  {
   "cell_type": "markdown",
   "metadata": {},
   "source": [
    "Define some paths and constants."
   ]
  },
  {
   "cell_type": "code",
   "execution_count": null,
   "metadata": {},
   "outputs": [],
   "source": [
    "# Paths\n",
    "DATADIR = os.getcwd() + '/../data'\n",
    "\n",
    "# Some constants\n",
    "DATE_START = '1979-01-01'\n",
    "DATE_END = '2020-12-31'"
   ]
  },
  {
   "cell_type": "markdown",
   "metadata": {},
   "source": [
    "# Unsupervised learning approaches\n",
    "\n",
    "## Getting started with the data"
   ]
  },
  {
   "cell_type": "code",
   "execution_count": null,
   "metadata": {},
   "outputs": [],
   "source": [
    "#Open data\n",
    "mslp = xr.open_mfdataset(DATADIR + '/ERA5/Daymean_era5_2deg_MSL_EU_19790101-20210902.nc', combine='by_coords')\n",
    "mslp = mslp.sel(time=slice(DATE_START, DATE_END))\n",
    "\n",
    "# Convert to hPa\n",
    "mslp.MSL.values = mslp.MSL.values/100\n",
    "lon = mslp.lon\n",
    "lat = mslp.lat\n",
    "\n",
    "mslp.MSL.shape"
   ]
  },
  {
   "cell_type": "code",
   "execution_count": null,
   "metadata": {},
   "outputs": [],
   "source": [
    "# Plot an example (day) of mslp\n",
    "mslp.MSL.isel(time=200).plot();"
   ]
  },
  {
   "cell_type": "code",
   "execution_count": null,
   "metadata": {},
   "outputs": [],
   "source": [
    "# Process season mean\n",
    "seas_means = mslp.groupby(\"time.season\").mean()\n",
    "\n",
    "fg = seas_means.MSL.plot(col=\"season\",  col_wrap=4,\n",
    "    # The remaining kwargs customize the plot just as for not-faceted plots\n",
    "    robust=True,\n",
    "    cmap=mpl.cm.RdYlBu_r)\n",
    "\n",
    "# Use this to plot contours on each panel\n",
    "# Note that this plotting call uses the original DataArray gradients\n",
    "fg.map_dataarray(\n",
    "    xr.plot.contour, x=\"lon\", y=\"lat\", colors=\"k\", levels=13, add_colorbar=False\n",
    ")"
   ]
  },
  {
   "cell_type": "code",
   "execution_count": null,
   "metadata": {},
   "outputs": [],
   "source": [
    "# Compute anomalies\n",
    "climatology = mslp.mean('time')\n",
    "\n",
    "# By season\n",
    "season_climatology = mslp.groupby('time.season').mean('time')\n",
    "\n",
    "# Climatological anomalies\n",
    "anom_mslp =  mslp.MSL  - climatology\n",
    "\n",
    "# By season\n",
    "anom_seas_mslp = mslp.groupby('time.season') - season_climatology"
   ]
  },
  {
   "cell_type": "markdown",
   "metadata": {},
   "source": [
    "## PCA"
   ]
  },
  {
   "cell_type": "code",
   "execution_count": null,
   "metadata": {},
   "outputs": [],
   "source": [
    "# Start using the whole data set for PCA. Then, anomalies can be used\n",
    "from sklearn.cluster import KMeans\n",
    "from sklearn.decomposition import PCA\n",
    "\n",
    "# We need to reshape the data [time,latxlon]  \n",
    "mslp_stacked = mslp.stack(latlon=('lat', 'lon'))\n",
    "\n",
    "# Load in memory for computing the PCA\n",
    "mslp_stacked.load()\n",
    "\n",
    "# Extract msl variable\n",
    "X = mslp_stacked.MSL"
   ]
  },
  {
   "cell_type": "code",
   "execution_count": null,
   "metadata": {},
   "outputs": [],
   "source": [
    "# The number of variables (features) is 1025 (41 points in longitude * 25 points in latitude)\n",
    "# Standardise the data\n",
    "from sklearn.preprocessing import StandardScaler\n",
    "\n",
    "scaler  = StandardScaler()\n",
    "scaler = scaler.fit(X)\n",
    "X = scaler.transform(X)"
   ]
  },
  {
   "cell_type": "code",
   "execution_count": null,
   "metadata": {},
   "outputs": [],
   "source": [
    "# Do the PCA\n",
    "pca = PCA()\n",
    "pca.fit(X)\n",
    "\n",
    "cumsum = np.cumsum(pca.explained_variance_ratio_)\n",
    "d = np.argmax(cumsum >= 0.95) + 1"
   ]
  },
  {
   "cell_type": "code",
   "execution_count": null,
   "metadata": {},
   "outputs": [],
   "source": [
    "# See how many components \n",
    "f, ax = plt.subplots(figsize=(6,6))\n",
    "ax.plot(range(1,21), pca.explained_variance_ratio_[0:20]*100)\n",
    "ax.plot(range(1,21), pca.explained_variance_ratio_[0:20]*100,'ro')\n",
    "ax.grid(ls=':')\n",
    "ax.set_xticks(range(1,21)); \n",
    "ax.set_xlabel('PC#');\n",
    "ax.set_ylabel(\"% variance\");"
   ]
  },
  {
   "cell_type": "code",
   "execution_count": null,
   "metadata": {},
   "outputs": [],
   "source": [
    "# We can take 4 or 5\n",
    "# Following the literature I will take 4 (e.g. Cortesi et a., 2021)\n",
    "n = 12 # We can change this number\n",
    "pca.explained_variance_ratio_[:n].sum()"
   ]
  },
  {
   "cell_type": "code",
   "execution_count": null,
   "metadata": {},
   "outputs": [],
   "source": [
    "PCs = pca.fit_transform(X)\n",
    "PCs_n = PCs[:,:n]\n",
    "\n",
    "# Data frame format for the selected components\n",
    "PCdf = pd.DataFrame(PCs_n, index = mslp['time'], \\\n",
    "                    columns = [\"PC%s\" % (x) for x in range(1, PCs_n.shape[1] +1)])\n",
    "\n",
    "# See the data\n",
    "PCdf.head()"
   ]
  },
  {
   "cell_type": "markdown",
   "metadata": {},
   "source": [
    "The EOFS (Empirical orthogonal functions) contain the spatial patterns associated with each PC"
   ]
  },
  {
   "cell_type": "code",
   "execution_count": null,
   "metadata": {},
   "outputs": [],
   "source": [
    "EOFs = pca.components_\n",
    "EOFs = EOFs[:n,:]\n",
    "\n",
    "# Reshape the data\n",
    "EOFs_r = EOFs.reshape((n, len(lat), len(lon)))\n",
    "EOFs_r.shape"
   ]
  },
  {
   "cell_type": "code",
   "execution_count": null,
   "metadata": {},
   "outputs": [],
   "source": [
    "nn = []\n",
    "tot_var = []\n",
    "for ip in range(n):\n",
    "    xn = pca.explained_variance_ratio_[:ip + 1].sum()\n",
    "    nn.append(xn)\n",
    "    xx =  pca.explained_variance_ratio_[:ip + 1].sum() - pca.explained_variance_ratio_[:ip ].sum()\n",
    "    tot_var.append(xx)"
   ]
  },
  {
   "cell_type": "code",
   "execution_count": null,
   "metadata": {},
   "outputs": [],
   "source": [
    "# Convert into Xarray for visualization\n",
    "XD_EOFs_r = xr.DataArray(data=EOFs_r, coords=[(\"PCA\", tot_var), (\"lat\", lat.data), (\"lon\", lon.data)])\n",
    "\n",
    "fg = XD_EOFs_r.plot(col=\"PCA\",  col_wrap=4,\n",
    "    # The remaining kwargs customize the plot just as for not-faceted plots\n",
    "    robust=True,\n",
    "    cmap=mpl.cm.RdYlBu_r)\n",
    "\n",
    "# Use this to plot contours on each panel\n",
    "# Note that this plotting call uses the original DataArray gradients\n",
    "fg.map_dataarray(\n",
    "    xr.plot.contour, x=\"lon\", y=\"lat\", colors=\"k\", levels=13, add_colorbar=False\n",
    ")"
   ]
  },
  {
   "cell_type": "markdown",
   "metadata": {},
   "source": [
    "## K-means clustering"
   ]
  },
  {
   "cell_type": "code",
   "execution_count": null,
   "metadata": {},
   "outputs": [],
   "source": [
    "from sklearn.cluster import KMeans\n",
    "\n",
    "# Perform K-cluster analysis using the PCds obtained before\n",
    "nclusters = 12\n",
    "kmeans = KMeans(init='k-means++', n_clusters=nclusters, n_init=10)\n",
    "kmeans.fit(PCdf.values)\n",
    "y_pred = kmeans.fit_predict(PCdf.values)\n",
    "\n",
    "# Each day belongs to a cluster, labelled by kmeands.labels_\n",
    "np.unique(kmeans.labels_)"
   ]
  },
  {
   "cell_type": "code",
   "execution_count": null,
   "metadata": {},
   "outputs": [],
   "source": [
    "labels = pd.DataFrame(kmeans.labels_, index=mslp['time'], columns=['cluster'])\n",
    "\n",
    "# See how many days belong to cluster 0\n",
    "index = labels.query('cluster == {}'.format(0))\n",
    "len(index)"
   ]
  },
  {
   "cell_type": "markdown",
   "metadata": {},
   "source": [
    "For each cluster we calculate the mean "
   ]
  },
  {
   "cell_type": "code",
   "execution_count": null,
   "metadata": {},
   "outputs": [],
   "source": [
    "num_tot = len(labels.cluster)\n",
    "clusters = []\n",
    "nbdays = []\n",
    "\n",
    "for iclus in range(nclusters): \n",
    "    index = labels.query('cluster == {}'.format(iclus)) \n",
    "    freq = (len(index)/num_tot)*100\n",
    "    freq = round(freq,2)\n",
    "    nbdays.append(freq)\n",
    "    cluster = mslp.sel(time=index.index).mean('time')\n",
    "    clusters.append(cluster)\n",
    "\n",
    "clusters = xr.concat(clusters, dim='cluster')\n",
    "clusters.assign_coords(cluster=nbdays)\n",
    "\n",
    "fg_C = clusters.MSL.plot(col=\"cluster\",  col_wrap=4,\n",
    "    # The remaining kwargs customize the plot just as for not-faceted plots\n",
    "    robust=True, \n",
    "    cmap=mpl.cm.RdYlBu_r)\n",
    "\n",
    "fg_C.map_dataarray(\n",
    "    xr.plot.contour, x=\"lon\", y=\"lat\", colors=\"k\", levels=13, add_colorbar=False\n",
    ")"
   ]
  },
  {
   "cell_type": "markdown",
   "metadata": {},
   "source": [
    "# Supervised learning approaches"
   ]
  },
  {
   "cell_type": "markdown",
   "metadata": {},
   "source": [
    "## Data preparation: precipitation time series\n",
    "\n",
    "**Dataset**: RhiresD, which is a gridded daily precipitation dataset over Switzerland provided by MeteoSwiss. It is based on a spatial interpolation of rain-gauge data. The grid resolution is 1 km, but the effective resolution is in the order of 15-20 km.\n",
    "\n",
    "\n",
    "**Aggregations levels**: The gridded dataset has been averaged over different regions:\n",
    "* 12 climatic regions\n",
    "* 5 aggregated regions\n",
    "* the whole country"
   ]
  },
  {
   "cell_type": "code",
   "execution_count": null,
   "metadata": {},
   "outputs": [],
   "source": [
    "precip = get_precipitation_data(DATADIR + '/MeteoSwiss/precip_regions.csv', DATE_START, DATE_END)\n",
    "\n",
    "precip_p95 = precip_exceedance(precip, 0.95)\n",
    "precip_p99 = precip_exceedance(precip, 0.99)"
   ]
  },
  {
   "cell_type": "code",
   "execution_count": null,
   "metadata": {},
   "outputs": [],
   "source": [
    "variables = read_csv_files(glob.glob(os.path.join(\n",
    "    DATADIR + '/ERA5/TS_CH/', '*.csv')), DATE_START, DATE_END)\n",
    "\n",
    "full_data = concat_dataframes([variables, precip.reg_tot])\n",
    "\n",
    "full_data"
   ]
  },
  {
   "cell_type": "markdown",
   "metadata": {},
   "source": [
    "## Linear regression for precipitation values"
   ]
  },
  {
   "cell_type": "code",
   "execution_count": null,
   "metadata": {},
   "outputs": [],
   "source": []
  },
  {
   "cell_type": "markdown",
   "metadata": {},
   "source": [
    "## Logistic regression for extreme events"
   ]
  },
  {
   "cell_type": "code",
   "execution_count": null,
   "metadata": {},
   "outputs": [],
   "source": []
  },
  {
   "cell_type": "markdown",
   "metadata": {},
   "source": [
    "## Random forest"
   ]
  },
  {
   "cell_type": "code",
   "execution_count": null,
   "metadata": {},
   "outputs": [],
   "source": []
  }
 ],
 "metadata": {
  "interpreter": {
   "hash": "2db524e06e9f5f4ffedc911c917cb75e12dbc923643829bf417064a77eb14d37"
  },
  "kernelspec": {
   "display_name": "Python 3",
   "language": "python",
   "name": "python3"
  },
  "language_info": {
   "codemirror_mode": {
    "name": "ipython",
    "version": 3
   },
   "file_extension": ".py",
   "mimetype": "text/x-python",
   "name": "python",
   "nbconvert_exporter": "python",
   "pygments_lexer": "ipython3",
   "version": "3.8.5"
  }
 },
 "nbformat": 4,
 "nbformat_minor": 5
}
