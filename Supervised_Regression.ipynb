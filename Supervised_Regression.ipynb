{
 "cells": [
  {
   "cell_type": "markdown",
   "metadata": {},
   "source": [
    "# Supervised methods "
   ]
  },
  {
   "cell_type": "markdown",
   "metadata": {},
   "source": [
    "Preparing data"
   ]
  },
  {
   "cell_type": "code",
   "execution_count": 1,
   "metadata": {},
   "outputs": [],
   "source": [
    "# Common imports\n",
    "import os\n",
    "import glob\n",
    "import numpy as np\n",
    "import pandas as pd\n",
    "import xarray as xr\n",
    "from utils import * \n",
    "from utils_ml import *"
   ]
  },
  {
   "cell_type": "code",
   "execution_count": 2,
   "metadata": {},
   "outputs": [],
   "source": [
    "# Paths\n",
    "os.getcwd() \n",
    "DATADIR = '/Users/noeliaotero/Documents/CAS_ML/data/'\n",
    "\n",
    "# Some constants\n",
    "DATE_START = '1979-01-01'\n",
    "DATE_END = '2020-12-31'"
   ]
  },
  {
   "cell_type": "code",
   "execution_count": 3,
   "metadata": {},
   "outputs": [
    {
     "data": {
      "text/plain": [
       "'/Users/noeliaotero/Documents/CAS_ML/data/'"
      ]
     },
     "execution_count": 3,
     "metadata": {},
     "output_type": "execute_result"
    }
   ],
   "source": [
    "DATADIR"
   ]
  },
  {
   "cell_type": "code",
   "execution_count": 4,
   "metadata": {},
   "outputs": [
    {
     "data": {
      "text/plain": [
       "<bound method NDFrame.describe of              date        1000         850        700        500        300  \\\n",
       "0      1979-01-01   670.47250  13147.5720  27538.084  51563.137  85408.290   \n",
       "1      1979-01-02  1956.03480  14132.2560  28140.230  51360.200  84393.940   \n",
       "2      1979-01-03  1836.24610  14219.6140  28574.281  52375.900  86106.790   \n",
       "3      1979-01-04   713.62290  13306.5000  28061.512  52525.293  86493.560   \n",
       "4      1979-01-05  1251.92100  13966.7910  28859.885  53412.040  87216.220   \n",
       "...           ...         ...         ...        ...        ...        ...   \n",
       "15336  2020-12-27   352.08014  13172.3960  28179.588  53228.867  88139.080   \n",
       "15337  2020-12-28 -1099.45190  11721.3960  26578.895  51061.465  84758.580   \n",
       "15338  2020-12-29  -310.72968  12528.1090  27348.270  51634.080  84954.390   \n",
       "15339  2020-12-30   575.76044  13345.1850  28083.260  52228.586  85529.125   \n",
       "15340  2020-12-31   719.40370  13492.9375  28310.188  52718.150  86304.960   \n",
       "\n",
       "              MSL   T2MMEAN  \n",
       "0      1009.09700  -9.09492  \n",
       "1      1026.47890 -16.21680  \n",
       "2      1024.08980 -13.92896  \n",
       "3      1009.13220 -13.54580  \n",
       "4      1015.91220 -12.99600  \n",
       "...           ...       ...  \n",
       "15336  1004.52890  -6.79212  \n",
       "15337   986.39984  -3.55503  \n",
       "15338   996.18420  -3.35328  \n",
       "15339  1007.27516  -5.37660  \n",
       "15340  1009.08950  -6.11320  \n",
       "\n",
       "[15341 rows x 8 columns]>"
      ]
     },
     "execution_count": 4,
     "metadata": {},
     "output_type": "execute_result"
    }
   ],
   "source": [
    "DIRCSV  = DATADIR + 'TS_CH/'\n",
    "l_files = glob.glob(os.path.join(DIRCSV, 'df*.csv'))\n",
    "df_vars =  read_csv_files(l_files, DATE_START, DATE_END)\n",
    "df_vars.describe"
   ]
  },
  {
   "cell_type": "code",
   "execution_count": 5,
   "metadata": {},
   "outputs": [],
   "source": [
    "# read precipitaion\n",
    "df_prec = get_precipitation_data ( DATADIR + 'TS_CH/precip_regions.csv', DATE_START, DATE_END)\n",
    "# Select the right columns: date and reg_tot (all country)\n",
    "df_prec = df_prec[['date','reg_tot']]"
   ]
  },
  {
   "cell_type": "code",
   "execution_count": 6,
   "metadata": {},
   "outputs": [],
   "source": [
    "# Merge everything\n",
    "l_all = []\n",
    "l_all.append(df_vars)\n",
    "l_all.append(df_prec)\n",
    "df_input = concat_dataframes(l_all)"
   ]
  },
  {
   "cell_type": "markdown",
   "metadata": {},
   "source": [
    "Prepare the data "
   ]
  },
  {
   "cell_type": "code",
   "execution_count": 7,
   "metadata": {},
   "outputs": [],
   "source": [
    "yy_train = [1979,2015]\n",
    "yy_test  = [2016,2020]\n",
    "attributes = df_vars.columns[1:8]\n",
    "ylabel = df_prec.columns[1]"
   ]
  },
  {
   "cell_type": "code",
   "execution_count": 8,
   "metadata": {},
   "outputs": [
    {
     "data": {
      "text/html": [
       "<div>\n",
       "<style scoped>\n",
       "    .dataframe tbody tr th:only-of-type {\n",
       "        vertical-align: middle;\n",
       "    }\n",
       "\n",
       "    .dataframe tbody tr th {\n",
       "        vertical-align: top;\n",
       "    }\n",
       "\n",
       "    .dataframe thead th {\n",
       "        text-align: right;\n",
       "    }\n",
       "</style>\n",
       "<table border=\"1\" class=\"dataframe\">\n",
       "  <thead>\n",
       "    <tr style=\"text-align: right;\">\n",
       "      <th></th>\n",
       "      <th>1000</th>\n",
       "      <th>850</th>\n",
       "      <th>700</th>\n",
       "      <th>500</th>\n",
       "      <th>300</th>\n",
       "      <th>MSL</th>\n",
       "      <th>T2MMEAN</th>\n",
       "    </tr>\n",
       "  </thead>\n",
       "  <tbody>\n",
       "    <tr>\n",
       "      <th>0</th>\n",
       "      <td>670.4725</td>\n",
       "      <td>13147.5720</td>\n",
       "      <td>27538.084</td>\n",
       "      <td>51563.137</td>\n",
       "      <td>85408.290</td>\n",
       "      <td>1009.09700</td>\n",
       "      <td>-9.09492</td>\n",
       "    </tr>\n",
       "    <tr>\n",
       "      <th>1</th>\n",
       "      <td>1956.0348</td>\n",
       "      <td>14132.2560</td>\n",
       "      <td>28140.230</td>\n",
       "      <td>51360.200</td>\n",
       "      <td>84393.940</td>\n",
       "      <td>1026.47890</td>\n",
       "      <td>-16.21680</td>\n",
       "    </tr>\n",
       "    <tr>\n",
       "      <th>2</th>\n",
       "      <td>1836.2461</td>\n",
       "      <td>14219.6140</td>\n",
       "      <td>28574.281</td>\n",
       "      <td>52375.900</td>\n",
       "      <td>86106.790</td>\n",
       "      <td>1024.08980</td>\n",
       "      <td>-13.92896</td>\n",
       "    </tr>\n",
       "    <tr>\n",
       "      <th>3</th>\n",
       "      <td>713.6229</td>\n",
       "      <td>13306.5000</td>\n",
       "      <td>28061.512</td>\n",
       "      <td>52525.293</td>\n",
       "      <td>86493.560</td>\n",
       "      <td>1009.13220</td>\n",
       "      <td>-13.54580</td>\n",
       "    </tr>\n",
       "    <tr>\n",
       "      <th>4</th>\n",
       "      <td>1251.9210</td>\n",
       "      <td>13966.7910</td>\n",
       "      <td>28859.885</td>\n",
       "      <td>53412.040</td>\n",
       "      <td>87216.220</td>\n",
       "      <td>1015.91220</td>\n",
       "      <td>-12.99600</td>\n",
       "    </tr>\n",
       "    <tr>\n",
       "      <th>...</th>\n",
       "      <td>...</td>\n",
       "      <td>...</td>\n",
       "      <td>...</td>\n",
       "      <td>...</td>\n",
       "      <td>...</td>\n",
       "      <td>...</td>\n",
       "      <td>...</td>\n",
       "    </tr>\n",
       "    <tr>\n",
       "      <th>13509</th>\n",
       "      <td>2574.1172</td>\n",
       "      <td>15820.1750</td>\n",
       "      <td>31238.965</td>\n",
       "      <td>56673.836</td>\n",
       "      <td>91952.550</td>\n",
       "      <td>1031.60170</td>\n",
       "      <td>-1.63175</td>\n",
       "    </tr>\n",
       "    <tr>\n",
       "      <th>13510</th>\n",
       "      <td>2341.0386</td>\n",
       "      <td>15606.1300</td>\n",
       "      <td>31090.700</td>\n",
       "      <td>56641.086</td>\n",
       "      <td>92014.590</td>\n",
       "      <td>1028.72700</td>\n",
       "      <td>-1.98650</td>\n",
       "    </tr>\n",
       "    <tr>\n",
       "      <th>13511</th>\n",
       "      <td>2294.6145</td>\n",
       "      <td>15423.5100</td>\n",
       "      <td>30689.750</td>\n",
       "      <td>55916.074</td>\n",
       "      <td>91049.170</td>\n",
       "      <td>1028.37980</td>\n",
       "      <td>-1.61298</td>\n",
       "    </tr>\n",
       "    <tr>\n",
       "      <th>13512</th>\n",
       "      <td>2159.8462</td>\n",
       "      <td>15197.5625</td>\n",
       "      <td>30453.406</td>\n",
       "      <td>55788.844</td>\n",
       "      <td>91222.450</td>\n",
       "      <td>1026.89266</td>\n",
       "      <td>-1.83560</td>\n",
       "    </tr>\n",
       "    <tr>\n",
       "      <th>13513</th>\n",
       "      <td>2038.4213</td>\n",
       "      <td>15065.1610</td>\n",
       "      <td>30217.328</td>\n",
       "      <td>55435.207</td>\n",
       "      <td>90634.805</td>\n",
       "      <td>1025.35120</td>\n",
       "      <td>0.04380</td>\n",
       "    </tr>\n",
       "  </tbody>\n",
       "</table>\n",
       "<p>13514 rows × 7 columns</p>\n",
       "</div>"
      ],
      "text/plain": [
       "            1000         850        700        500        300         MSL  \\\n",
       "0       670.4725  13147.5720  27538.084  51563.137  85408.290  1009.09700   \n",
       "1      1956.0348  14132.2560  28140.230  51360.200  84393.940  1026.47890   \n",
       "2      1836.2461  14219.6140  28574.281  52375.900  86106.790  1024.08980   \n",
       "3       713.6229  13306.5000  28061.512  52525.293  86493.560  1009.13220   \n",
       "4      1251.9210  13966.7910  28859.885  53412.040  87216.220  1015.91220   \n",
       "...          ...         ...        ...        ...        ...         ...   \n",
       "13509  2574.1172  15820.1750  31238.965  56673.836  91952.550  1031.60170   \n",
       "13510  2341.0386  15606.1300  31090.700  56641.086  92014.590  1028.72700   \n",
       "13511  2294.6145  15423.5100  30689.750  55916.074  91049.170  1028.37980   \n",
       "13512  2159.8462  15197.5625  30453.406  55788.844  91222.450  1026.89266   \n",
       "13513  2038.4213  15065.1610  30217.328  55435.207  90634.805  1025.35120   \n",
       "\n",
       "        T2MMEAN  \n",
       "0      -9.09492  \n",
       "1     -16.21680  \n",
       "2     -13.92896  \n",
       "3     -13.54580  \n",
       "4     -12.99600  \n",
       "...         ...  \n",
       "13509  -1.63175  \n",
       "13510  -1.98650  \n",
       "13511  -1.61298  \n",
       "13512  -1.83560  \n",
       "13513   0.04380  \n",
       "\n",
       "[13514 rows x 7 columns]"
      ]
     },
     "execution_count": 8,
     "metadata": {},
     "output_type": "execute_result"
    }
   ],
   "source": [
    "train_dataset, train_labels, test_dataset, test_labels, train_dates, test_dates = split_data(df_input, yy_train, yy_test, attributes, ylabel)\n",
    "train_dataset"
   ]
  },
  {
   "cell_type": "code",
   "execution_count": 13,
   "metadata": {},
   "outputs": [
    {
     "data": {
      "text/plain": [
       "(13514, 7)"
      ]
     },
     "execution_count": 13,
     "metadata": {},
     "output_type": "execute_result"
    }
   ],
   "source": [
    "X_prep_train = prepareData(train_dataset)\n",
    "X_prep_train.shape"
   ]
  },
  {
   "cell_type": "code",
   "execution_count": 11,
   "metadata": {},
   "outputs": [],
   "source": [
    "X_prep_test = prepareData(test_dataset)"
   ]
  },
  {
   "cell_type": "code",
   "execution_count": 12,
   "metadata": {},
   "outputs": [
    {
     "data": {
      "text/plain": [
       "(1827, 7)"
      ]
     },
     "execution_count": 12,
     "metadata": {},
     "output_type": "execute_result"
    }
   ],
   "source": [
    "X_prep_test.shape"
   ]
  },
  {
   "cell_type": "code",
   "execution_count": null,
   "metadata": {},
   "outputs": [],
   "source": []
  }
 ],
 "metadata": {
  "kernelspec": {
   "display_name": "Python 3",
   "language": "python",
   "name": "python3"
  },
  "language_info": {
   "codemirror_mode": {
    "name": "ipython",
    "version": 3
   },
   "file_extension": ".py",
   "mimetype": "text/x-python",
   "name": "python",
   "nbconvert_exporter": "python",
   "pygments_lexer": "ipython3",
   "version": "3.8.5"
  }
 },
 "nbformat": 4,
 "nbformat_minor": 4
}
